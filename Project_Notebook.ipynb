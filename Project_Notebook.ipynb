{
 "cells": [
  {
   "cell_type": "markdown",
   "metadata": {},
   "source": [
    "# Semantic Inpainting"
   ]
  },
  {
   "cell_type": "code",
   "execution_count": 1,
   "metadata": {},
   "outputs": [],
   "source": [
    "import time\n",
    "import numpy as np\n",
    "import tensorflow as tf\n",
    "\n",
    "# Notebook auto reloads code. (Ref: http://stackoverflow.com/questions/1907993/autoreload-of-modules-in-ipython)\n",
    "%load_ext autoreload\n",
    "%autoreload 2"
   ]
  },
  {
   "cell_type": "markdown",
   "metadata": {},
   "source": [
    "## Data Setup"
   ]
  },
  {
   "cell_type": "markdown",
   "metadata": {},
   "source": [
    "Please make sure datasets are set up, as described in the README file."
   ]
  },
  {
   "cell_type": "markdown",
   "metadata": {},
   "source": [
    "## Training the model"
   ]
  },
  {
   "cell_type": "code",
   "execution_count": 2,
   "metadata": {},
   "outputs": [],
   "source": [
    "import os\n",
    "import scipy.misc\n",
    "import numpy as np\n",
    "from model import DCGAN\n",
    "from model_funcs import *\n",
    "import tensorflow as tf\n",
    "\n",
    "# prevent tensorflow from allocating too much memory\n",
    "config = tf.ConfigProto()\n",
    "config.gpu_options.allow_growth = True\n",
    "\n",
    "flags = tf.app.flags\n",
    "# FOLDER SETTINGS\n",
    "flags.DEFINE_string(\"dataset\", \"./datasets/img_align_celeba_preprocessed\", \"dir where preprocessed dataset is stored (see readme)\")\n",
    "flags.DEFINE_string(\"checkpoint_dir\", \"checkpoint\", \"dir where checkpoints are saved\")\n",
    "flags.DEFINE_string(\"sample_dir\", \"samples\", \"dir where sample images from generator are saved during training\")\n",
    "\n",
    "# DATA SETTINGS\n",
    "flags.DEFINE_integer(\"train_size\", 202600, \"dataset size (only valid for CelebA)\")\n",
    "flags.DEFINE_integer(\"batch_size\", 64, \"number of samples in batch\")\n",
    "flags.DEFINE_integer(\"image_size\", 64, \"fixed height of images\")\n",
    "\n",
    "# TRAINING SETTINGS\n",
    "flags.DEFINE_integer(\"epoch\", 1, \"number of epochs to train\")\n",
    "flags.DEFINE_float(\"learning_rate\", 0.0002, \"learning rate in the adam optimizers\")\n",
    "flags.DEFINE_float(\"beta1\", 0.5, \"adam setting\")\n",
    "flags.DEFINE_string('f', '', 'bla')\n",
    "FLAGS = flags.FLAGS\n",
    "\n"
   ]
  },
  {
   "cell_type": "code",
   "execution_count": 3,
   "metadata": {},
   "outputs": [],
   "source": [
    "# Check if directories exist\n",
    "if not os.path.exists(FLAGS.checkpoint_dir):\n",
    "    os.makedirs(FLAGS.checkpoint_dir)\n",
    "if not os.path.exists(FLAGS.sample_dir):\n",
    "    os.makedirs(FLAGS.sample_dir)"
   ]
  },
  {
   "cell_type": "code",
   "execution_count": 4,
   "metadata": {},
   "outputs": [
    {
     "name": "stdout",
     "output_type": "stream",
     "text": [
      " [*] Reading checkpoints...\n",
      "INFO:tensorflow:Restoring parameters from ./checkpoint/DCGAN.model-3202\n",
      "Existing checkpoint found\n",
      "EPOCHS:  0  /  1\n",
      "Dataset already present!\n",
      "epoch:  0/ 1 || iteration:    0/3165 || time: 7.9885 || discriminator loss: 1.31511056 || generator loss: 0.57111198\n",
      "epoch:  0/ 1 || iteration:   48/3165 || time: 69.1732 || discriminator loss: 1.14064395 || generator loss: 1.41939712\n",
      "epoch:  0/ 1 || iteration:   98/3165 || time: 132.7432 || discriminator loss: 1.19869733 || generator loss: 1.44554782\n",
      "[Sample] d_loss: 0.00000000, g_loss: 0.00000000\n",
      "epoch:  0/ 1 || iteration:  148/3165 || time: 196.6221 || discriminator loss: 1.39652944 || generator loss: 2.24488854\n",
      "epoch:  0/ 1 || iteration:  198/3165 || time: 260.3019 || discriminator loss: 1.13174510 || generator loss: 1.37926233\n",
      "[Sample] d_loss: 0.00000000, g_loss: 0.00000000\n",
      "epoch:  0/ 1 || iteration:  248/3165 || time: 324.1432 || discriminator loss: 1.28905785 || generator loss: 2.09439588\n",
      "epoch:  0/ 1 || iteration:  298/3165 || time: 387.7890 || discriminator loss: 1.02804279 || generator loss: 1.43870342\n",
      "[Sample] d_loss: 0.00000000, g_loss: 0.00000000\n",
      "epoch:  0/ 1 || iteration:  348/3165 || time: 451.5878 || discriminator loss: 1.48401475 || generator loss: 2.18611836\n",
      "epoch:  0/ 1 || iteration:  398/3165 || time: 515.2234 || discriminator loss: 1.05855107 || generator loss: 1.24124169\n",
      "[Sample] d_loss: 0.00000000, g_loss: 0.00000000\n",
      "epoch:  0/ 1 || iteration:  448/3165 || time: 579.3544 || discriminator loss: 0.93490350 || generator loss: 1.58624613\n",
      "epoch:  0/ 1 || iteration:  498/3165 || time: 643.0487 || discriminator loss: 1.63826871 || generator loss: 2.63263083\n",
      "[Sample] d_loss: 0.00000000, g_loss: 0.00000000\n",
      "epoch:  0/ 1 || iteration:  548/3165 || time: 706.7956 || discriminator loss: 0.86920500 || generator loss: 1.11559916\n",
      "epoch:  0/ 1 || iteration:  598/3165 || time: 770.4674 || discriminator loss: 1.07455444 || generator loss: 1.18255401\n",
      "[Sample] d_loss: 0.00000000, g_loss: 0.00000000\n",
      "epoch:  0/ 1 || iteration:  648/3165 || time: 834.2532 || discriminator loss: 0.92553294 || generator loss: 1.39458227\n",
      "epoch:  0/ 1 || iteration:  698/3165 || time: 897.9460 || discriminator loss: 0.87580717 || generator loss: 1.71159339\n",
      "[Sample] d_loss: 0.00000000, g_loss: 0.00000000\n",
      "epoch:  0/ 1 || iteration:  748/3165 || time: 961.7200 || discriminator loss: 1.15591836 || generator loss: 1.89148593\n",
      "epoch:  0/ 1 || iteration:  798/3165 || time: 1025.3676 || discriminator loss: 1.34485269 || generator loss: 1.32124734\n",
      "[Sample] d_loss: 0.00000000, g_loss: 0.00000000\n",
      "epoch:  0/ 1 || iteration:  848/3165 || time: 1089.4851 || discriminator loss: 1.21759462 || generator loss: 1.04734540\n",
      "epoch:  0/ 1 || iteration:  898/3165 || time: 1153.1187 || discriminator loss: 0.91459227 || generator loss: 1.87127399\n",
      "[Sample] d_loss: 0.00000000, g_loss: 0.00000000\n",
      "epoch:  0/ 1 || iteration:  948/3165 || time: 1216.9444 || discriminator loss: 1.06658173 || generator loss: 1.54072022\n",
      "epoch:  0/ 1 || iteration:  998/3165 || time: 1280.5686 || discriminator loss: 1.08135319 || generator loss: 1.12264073\n",
      "[Sample] d_loss: 0.00000000, g_loss: 0.00000000\n",
      "epoch:  0/ 1 || iteration: 1048/3165 || time: 1344.3561 || discriminator loss: 1.26108253 || generator loss: 1.40046573\n",
      "epoch:  0/ 1 || iteration: 1098/3165 || time: 1407.9935 || discriminator loss: 1.12379766 || generator loss: 1.66027689\n",
      "[Sample] d_loss: 0.00000000, g_loss: 0.00000000\n",
      "epoch:  0/ 1 || iteration: 1148/3165 || time: 1471.7908 || discriminator loss: 0.86758387 || generator loss: 1.75456476\n",
      "epoch:  0/ 1 || iteration: 1198/3165 || time: 1535.4420 || discriminator loss: 0.91582036 || generator loss: 1.44416201\n",
      "[Sample] d_loss: 0.00000000, g_loss: 0.00000000\n",
      "epoch:  0/ 1 || iteration: 1248/3165 || time: 1599.5276 || discriminator loss: 1.01360738 || generator loss: 1.51198375\n",
      "epoch:  0/ 1 || iteration: 1298/3165 || time: 1663.1748 || discriminator loss: 1.50851130 || generator loss: 1.98961377\n",
      "[Sample] d_loss: 0.00000000, g_loss: 0.00000000\n",
      "epoch:  0/ 1 || iteration: 1348/3165 || time: 1726.8945 || discriminator loss: 0.94120038 || generator loss: 1.08192635\n",
      "epoch:  0/ 1 || iteration: 1398/3165 || time: 1790.5009 || discriminator loss: 1.27031219 || generator loss: 1.79553366\n",
      "[Sample] d_loss: 0.00000000, g_loss: 0.00000000\n",
      "epoch:  0/ 1 || iteration: 1448/3165 || time: 1854.2748 || discriminator loss: 1.19972396 || generator loss: 0.76318145\n",
      "epoch:  0/ 1 || iteration: 1498/3165 || time: 1917.9101 || discriminator loss: 1.45470059 || generator loss: 2.17957377\n",
      "[Sample] d_loss: 0.00000000, g_loss: 0.00000000\n",
      "epoch:  0/ 1 || iteration: 1548/3165 || time: 1981.6444 || discriminator loss: 1.00828218 || generator loss: 1.49309659\n",
      "epoch:  0/ 1 || iteration: 1598/3165 || time: 2045.2402 || discriminator loss: 1.26064491 || generator loss: 1.23875141\n",
      "[Sample] d_loss: 0.00000000, g_loss: 0.00000000\n",
      "epoch:  0/ 1 || iteration: 1648/3165 || time: 2109.3267 || discriminator loss: 0.85269421 || generator loss: 1.60996842\n",
      "epoch:  0/ 1 || iteration: 1698/3165 || time: 2172.9241 || discriminator loss: 1.17732310 || generator loss: 1.27666771\n",
      "[Sample] d_loss: 0.00000000, g_loss: 0.00000000\n",
      "epoch:  0/ 1 || iteration: 1748/3165 || time: 2236.6256 || discriminator loss: 1.32006621 || generator loss: 0.95611161\n",
      "epoch:  0/ 1 || iteration: 1798/3165 || time: 2300.2341 || discriminator loss: 1.21111035 || generator loss: 0.79019737\n",
      "[Sample] d_loss: 0.00000000, g_loss: 0.00000000\n",
      "epoch:  0/ 1 || iteration: 1848/3165 || time: 2363.9797 || discriminator loss: 1.23020709 || generator loss: 0.73402452\n",
      "epoch:  0/ 1 || iteration: 1898/3165 || time: 2427.5486 || discriminator loss: 1.08253324 || generator loss: 1.78654242\n",
      "[Sample] d_loss: 0.00000000, g_loss: 0.00000000\n",
      "epoch:  0/ 1 || iteration: 1948/3165 || time: 2491.2327 || discriminator loss: 1.09489822 || generator loss: 1.13420343\n",
      "epoch:  0/ 1 || iteration: 1998/3165 || time: 2554.8269 || discriminator loss: 1.20610273 || generator loss: 1.41014457\n",
      "[Sample] d_loss: 0.00000000, g_loss: 0.00000000\n",
      "epoch:  0/ 1 || iteration: 2048/3165 || time: 2618.8895 || discriminator loss: 1.29679918 || generator loss: 1.91030478\n",
      "epoch:  0/ 1 || iteration: 2098/3165 || time: 2682.4825 || discriminator loss: 1.68742776 || generator loss: 2.37332487\n",
      "[Sample] d_loss: 0.00000000, g_loss: 0.00000000\n",
      "epoch:  0/ 1 || iteration: 2148/3165 || time: 2746.2404 || discriminator loss: 1.18070257 || generator loss: 2.74905467\n",
      "epoch:  0/ 1 || iteration: 2198/3165 || time: 2809.8040 || discriminator loss: 1.02389121 || generator loss: 1.30636859\n",
      "[Sample] d_loss: 0.00000000, g_loss: 0.00000000\n",
      "epoch:  0/ 1 || iteration: 2248/3165 || time: 2873.5183 || discriminator loss: 1.32528555 || generator loss: 1.88542664\n",
      "epoch:  0/ 1 || iteration: 2298/3165 || time: 2937.0923 || discriminator loss: 1.21955216 || generator loss: 1.00026751\n",
      "[Sample] d_loss: 0.00000000, g_loss: 0.00000000\n",
      "epoch:  0/ 1 || iteration: 2348/3165 || time: 3000.8405 || discriminator loss: 0.94799531 || generator loss: 1.13174880\n",
      "epoch:  0/ 1 || iteration: 2398/3165 || time: 3064.4127 || discriminator loss: 1.34622550 || generator loss: 2.21163487\n",
      "[Sample] d_loss: 0.00000000, g_loss: 0.00000000\n",
      "epoch:  0/ 1 || iteration: 2448/3165 || time: 3128.4746 || discriminator loss: 1.23043847 || generator loss: 1.56417370\n",
      "epoch:  0/ 1 || iteration: 2498/3165 || time: 3192.0821 || discriminator loss: 1.13617432 || generator loss: 1.53915799\n",
      "[Sample] d_loss: 0.00000000, g_loss: 0.00000000\n",
      "epoch:  0/ 1 || iteration: 2548/3165 || time: 3255.8247 || discriminator loss: 1.07744837 || generator loss: 1.66545761\n",
      "epoch:  0/ 1 || iteration: 2598/3165 || time: 3319.3925 || discriminator loss: 1.67989314 || generator loss: 1.43881953\n",
      "[Sample] d_loss: 0.00000000, g_loss: 0.00000000\n",
      "epoch:  0/ 1 || iteration: 2648/3165 || time: 3383.0853 || discriminator loss: 1.08576679 || generator loss: 1.23537314\n",
      "epoch:  0/ 1 || iteration: 2698/3165 || time: 3446.6562 || discriminator loss: 0.95972830 || generator loss: 1.18705916\n",
      "[Sample] d_loss: 0.00000000, g_loss: 0.00000000\n",
      "epoch:  0/ 1 || iteration: 2748/3165 || time: 3510.3341 || discriminator loss: 1.17642760 || generator loss: 1.34854198\n",
      "epoch:  0/ 1 || iteration: 2798/3165 || time: 3573.8974 || discriminator loss: 1.02010572 || generator loss: 1.22579288\n",
      "[Sample] d_loss: 0.00000000, g_loss: 0.00000000\n"
     ]
    },
    {
     "name": "stdout",
     "output_type": "stream",
     "text": [
      "epoch:  0/ 1 || iteration: 2848/3165 || time: 3637.9170 || discriminator loss: 0.94234955 || generator loss: 0.86494243\n",
      "epoch:  0/ 1 || iteration: 2898/3165 || time: 3701.4684 || discriminator loss: 1.16424108 || generator loss: 1.80290484\n",
      "[Sample] d_loss: 0.00000000, g_loss: 0.00000000\n",
      "epoch:  0/ 1 || iteration: 2948/3165 || time: 3765.1795 || discriminator loss: 1.14639723 || generator loss: 1.29727101\n",
      "epoch:  0/ 1 || iteration: 2998/3165 || time: 3828.7662 || discriminator loss: 1.17586875 || generator loss: 1.21542549\n",
      "[Sample] d_loss: 0.00000000, g_loss: 0.00000000\n",
      "epoch:  0/ 1 || iteration: 3048/3165 || time: 3892.4351 || discriminator loss: 0.93015277 || generator loss: 1.22947633\n",
      "epoch:  0/ 1 || iteration: 3098/3165 || time: 3956.0007 || discriminator loss: 1.15206599 || generator loss: 1.22923589\n",
      "[Sample] d_loss: 0.00000000, g_loss: 0.00000000\n",
      "epoch:  0/ 1 || iteration: 3148/3165 || time: 4019.7047 || discriminator loss: 1.32663774 || generator loss: 0.64397705\n"
     ]
    }
   ],
   "source": [
    "with tf.Session(config=config) as sess:\n",
    "    #create DC gan\n",
    "    dcgan = DCGAN(\n",
    "            sess,\n",
    "            batch_size=FLAGS.batch_size,\n",
    "            checkpoint_dir=FLAGS.checkpoint_dir)\n",
    "    dcgan.train(FLAGS)"
   ]
  },
  {
   "cell_type": "markdown",
   "metadata": {},
   "source": [
    "__Note:__ The notebook shows the outputs for 1 epoch run. However, in the implementation of our project, we ran the data for 12 epochs to get the results described in the report."
   ]
  },
  {
   "cell_type": "markdown",
   "metadata": {},
   "source": [
    "## Inpainting Training"
   ]
  },
  {
   "cell_type": "code",
   "execution_count": 12,
   "metadata": {},
   "outputs": [
    {
     "name": "stdout",
     "output_type": "stream",
     "text": [
      " [*] Reading checkpoints...\n",
      "INFO:tensorflow:Restoring parameters from ./checkpoint/DCGAN.model-2802\n"
     ]
    },
    {
     "ename": "NotFoundError",
     "evalue": "Key beta1_power not found in checkpoint\n\t [[Node: save_5/RestoreV2 = RestoreV2[dtypes=[DT_FLOAT, DT_FLOAT, DT_FLOAT, DT_FLOAT, DT_FLOAT, ..., DT_FLOAT, DT_FLOAT, DT_FLOAT, DT_FLOAT, DT_FLOAT], _device=\"/job:localhost/replica:0/task:0/device:CPU:0\"](_arg_save_5/Const_0_0, save_5/RestoreV2/tensor_names, save_5/RestoreV2/shape_and_slices)]]\n\t [[Node: save_5/RestoreV2/_171 = _Recv[client_terminated=false, recv_device=\"/job:localhost/replica:0/task:0/device:GPU:0\", send_device=\"/job:localhost/replica:0/task:0/device:CPU:0\", send_device_incarnation=1, tensor_name=\"edge_176_save_5/RestoreV2\", tensor_type=DT_FLOAT, _device=\"/job:localhost/replica:0/task:0/device:GPU:0\"]()]]\n\nCaused by op 'save_5/RestoreV2', defined at:\n  File \"/home/ecbm4040/miniconda3/envs/dlenv/lib/python3.6/runpy.py\", line 193, in _run_module_as_main\n    \"__main__\", mod_spec)\n  File \"/home/ecbm4040/miniconda3/envs/dlenv/lib/python3.6/runpy.py\", line 85, in _run_code\n    exec(code, run_globals)\n  File \"/home/ecbm4040/miniconda3/envs/dlenv/lib/python3.6/site-packages/ipykernel_launcher.py\", line 16, in <module>\n    app.launch_new_instance()\n  File \"/home/ecbm4040/miniconda3/envs/dlenv/lib/python3.6/site-packages/traitlets/config/application.py\", line 658, in launch_instance\n    app.start()\n  File \"/home/ecbm4040/miniconda3/envs/dlenv/lib/python3.6/site-packages/ipykernel/kernelapp.py\", line 486, in start\n    self.io_loop.start()\n  File \"/home/ecbm4040/miniconda3/envs/dlenv/lib/python3.6/site-packages/tornado/platform/asyncio.py\", line 127, in start\n    self.asyncio_loop.run_forever()\n  File \"/home/ecbm4040/miniconda3/envs/dlenv/lib/python3.6/asyncio/base_events.py\", line 422, in run_forever\n    self._run_once()\n  File \"/home/ecbm4040/miniconda3/envs/dlenv/lib/python3.6/asyncio/base_events.py\", line 1432, in _run_once\n    handle._run()\n  File \"/home/ecbm4040/miniconda3/envs/dlenv/lib/python3.6/asyncio/events.py\", line 145, in _run\n    self._callback(*self._args)\n  File \"/home/ecbm4040/miniconda3/envs/dlenv/lib/python3.6/site-packages/tornado/platform/asyncio.py\", line 117, in _handle_events\n    handler_func(fileobj, events)\n  File \"/home/ecbm4040/miniconda3/envs/dlenv/lib/python3.6/site-packages/tornado/stack_context.py\", line 276, in null_wrapper\n    return fn(*args, **kwargs)\n  File \"/home/ecbm4040/miniconda3/envs/dlenv/lib/python3.6/site-packages/zmq/eventloop/zmqstream.py\", line 450, in _handle_events\n    self._handle_recv()\n  File \"/home/ecbm4040/miniconda3/envs/dlenv/lib/python3.6/site-packages/zmq/eventloop/zmqstream.py\", line 480, in _handle_recv\n    self._run_callback(callback, msg)\n  File \"/home/ecbm4040/miniconda3/envs/dlenv/lib/python3.6/site-packages/zmq/eventloop/zmqstream.py\", line 432, in _run_callback\n    callback(*args, **kwargs)\n  File \"/home/ecbm4040/miniconda3/envs/dlenv/lib/python3.6/site-packages/tornado/stack_context.py\", line 276, in null_wrapper\n    return fn(*args, **kwargs)\n  File \"/home/ecbm4040/miniconda3/envs/dlenv/lib/python3.6/site-packages/ipykernel/kernelbase.py\", line 283, in dispatcher\n    return self.dispatch_shell(stream, msg)\n  File \"/home/ecbm4040/miniconda3/envs/dlenv/lib/python3.6/site-packages/ipykernel/kernelbase.py\", line 233, in dispatch_shell\n    handler(stream, idents, msg)\n  File \"/home/ecbm4040/miniconda3/envs/dlenv/lib/python3.6/site-packages/ipykernel/kernelbase.py\", line 399, in execute_request\n    user_expressions, allow_stdin)\n  File \"/home/ecbm4040/miniconda3/envs/dlenv/lib/python3.6/site-packages/ipykernel/ipkernel.py\", line 208, in do_execute\n    res = shell.run_cell(code, store_history=store_history, silent=silent)\n  File \"/home/ecbm4040/miniconda3/envs/dlenv/lib/python3.6/site-packages/ipykernel/zmqshell.py\", line 537, in run_cell\n    return super(ZMQInteractiveShell, self).run_cell(*args, **kwargs)\n  File \"/home/ecbm4040/miniconda3/envs/dlenv/lib/python3.6/site-packages/IPython/core/interactiveshell.py\", line 2662, in run_cell\n    raw_cell, store_history, silent, shell_futures)\n  File \"/home/ecbm4040/miniconda3/envs/dlenv/lib/python3.6/site-packages/IPython/core/interactiveshell.py\", line 2785, in _run_cell\n    interactivity=interactivity, compiler=compiler, result=result)\n  File \"/home/ecbm4040/miniconda3/envs/dlenv/lib/python3.6/site-packages/IPython/core/interactiveshell.py\", line 2903, in run_ast_nodes\n    if self.run_code(code, result):\n  File \"/home/ecbm4040/miniconda3/envs/dlenv/lib/python3.6/site-packages/IPython/core/interactiveshell.py\", line 2963, in run_code\n    exec(code_obj, self.user_global_ns, self.user_ns)\n  File \"<ipython-input-12-7c7944a5b341>\", line 2, in <module>\n    dcgan = DCGAN(sess, batch_size=FLAGS.batch_size, checkpoint_dir=FLAGS.checkpoint_dir)\n  File \"/home/ecbm4040/DCGAN/model.py\", line 68, in __init__\n    self.build_model()\n  File \"/home/ecbm4040/DCGAN/model.py\", line 107, in build_model\n    self.saver = tf.train.Saver(max_to_keep=1)\n  File \"/home/ecbm4040/miniconda3/envs/dlenv/lib/python3.6/site-packages/tensorflow/python/training/saver.py\", line 1338, in __init__\n    self.build()\n  File \"/home/ecbm4040/miniconda3/envs/dlenv/lib/python3.6/site-packages/tensorflow/python/training/saver.py\", line 1347, in build\n    self._build(self._filename, build_save=True, build_restore=True)\n  File \"/home/ecbm4040/miniconda3/envs/dlenv/lib/python3.6/site-packages/tensorflow/python/training/saver.py\", line 1384, in _build\n    build_save=build_save, build_restore=build_restore)\n  File \"/home/ecbm4040/miniconda3/envs/dlenv/lib/python3.6/site-packages/tensorflow/python/training/saver.py\", line 835, in _build_internal\n    restore_sequentially, reshape)\n  File \"/home/ecbm4040/miniconda3/envs/dlenv/lib/python3.6/site-packages/tensorflow/python/training/saver.py\", line 472, in _AddRestoreOps\n    restore_sequentially)\n  File \"/home/ecbm4040/miniconda3/envs/dlenv/lib/python3.6/site-packages/tensorflow/python/training/saver.py\", line 886, in bulk_restore\n    return io_ops.restore_v2(filename_tensor, names, slices, dtypes)\n  File \"/home/ecbm4040/miniconda3/envs/dlenv/lib/python3.6/site-packages/tensorflow/python/ops/gen_io_ops.py\", line 1463, in restore_v2\n    shape_and_slices=shape_and_slices, dtypes=dtypes, name=name)\n  File \"/home/ecbm4040/miniconda3/envs/dlenv/lib/python3.6/site-packages/tensorflow/python/framework/op_def_library.py\", line 787, in _apply_op_helper\n    op_def=op_def)\n  File \"/home/ecbm4040/miniconda3/envs/dlenv/lib/python3.6/site-packages/tensorflow/python/framework/ops.py\", line 3392, in create_op\n    op_def=op_def)\n  File \"/home/ecbm4040/miniconda3/envs/dlenv/lib/python3.6/site-packages/tensorflow/python/framework/ops.py\", line 1718, in __init__\n    self._traceback = self._graph._extract_stack()  # pylint: disable=protected-access\n\nNotFoundError (see above for traceback): Key beta1_power not found in checkpoint\n\t [[Node: save_5/RestoreV2 = RestoreV2[dtypes=[DT_FLOAT, DT_FLOAT, DT_FLOAT, DT_FLOAT, DT_FLOAT, ..., DT_FLOAT, DT_FLOAT, DT_FLOAT, DT_FLOAT, DT_FLOAT], _device=\"/job:localhost/replica:0/task:0/device:CPU:0\"](_arg_save_5/Const_0_0, save_5/RestoreV2/tensor_names, save_5/RestoreV2/shape_and_slices)]]\n\t [[Node: save_5/RestoreV2/_171 = _Recv[client_terminated=false, recv_device=\"/job:localhost/replica:0/task:0/device:GPU:0\", send_device=\"/job:localhost/replica:0/task:0/device:CPU:0\", send_device_incarnation=1, tensor_name=\"edge_176_save_5/RestoreV2\", tensor_type=DT_FLOAT, _device=\"/job:localhost/replica:0/task:0/device:GPU:0\"]()]]\n",
     "output_type": "error",
     "traceback": [
      "\u001b[0;31m---------------------------------------------------------------------------\u001b[0m",
      "\u001b[0;31mNotFoundError\u001b[0m                             Traceback (most recent call last)",
      "\u001b[0;32m~/miniconda3/envs/dlenv/lib/python3.6/site-packages/tensorflow/python/client/session.py\u001b[0m in \u001b[0;36m_do_call\u001b[0;34m(self, fn, *args)\u001b[0m\n\u001b[1;32m   1321\u001b[0m     \u001b[0;32mtry\u001b[0m\u001b[0;34m:\u001b[0m\u001b[0;34m\u001b[0m\u001b[0m\n\u001b[0;32m-> 1322\u001b[0;31m       \u001b[0;32mreturn\u001b[0m \u001b[0mfn\u001b[0m\u001b[0;34m(\u001b[0m\u001b[0;34m*\u001b[0m\u001b[0margs\u001b[0m\u001b[0;34m)\u001b[0m\u001b[0;34m\u001b[0m\u001b[0m\n\u001b[0m\u001b[1;32m   1323\u001b[0m     \u001b[0;32mexcept\u001b[0m \u001b[0merrors\u001b[0m\u001b[0;34m.\u001b[0m\u001b[0mOpError\u001b[0m \u001b[0;32mas\u001b[0m \u001b[0me\u001b[0m\u001b[0;34m:\u001b[0m\u001b[0;34m\u001b[0m\u001b[0m\n",
      "\u001b[0;32m~/miniconda3/envs/dlenv/lib/python3.6/site-packages/tensorflow/python/client/session.py\u001b[0m in \u001b[0;36m_run_fn\u001b[0;34m(feed_dict, fetch_list, target_list, options, run_metadata)\u001b[0m\n\u001b[1;32m   1306\u001b[0m       return self._call_tf_sessionrun(\n\u001b[0;32m-> 1307\u001b[0;31m           options, feed_dict, fetch_list, target_list, run_metadata)\n\u001b[0m\u001b[1;32m   1308\u001b[0m \u001b[0;34m\u001b[0m\u001b[0m\n",
      "\u001b[0;32m~/miniconda3/envs/dlenv/lib/python3.6/site-packages/tensorflow/python/client/session.py\u001b[0m in \u001b[0;36m_call_tf_sessionrun\u001b[0;34m(self, options, feed_dict, fetch_list, target_list, run_metadata)\u001b[0m\n\u001b[1;32m   1408\u001b[0m           \u001b[0mself\u001b[0m\u001b[0;34m.\u001b[0m\u001b[0m_session\u001b[0m\u001b[0;34m,\u001b[0m \u001b[0moptions\u001b[0m\u001b[0;34m,\u001b[0m \u001b[0mfeed_dict\u001b[0m\u001b[0;34m,\u001b[0m \u001b[0mfetch_list\u001b[0m\u001b[0;34m,\u001b[0m \u001b[0mtarget_list\u001b[0m\u001b[0;34m,\u001b[0m\u001b[0;34m\u001b[0m\u001b[0m\n\u001b[0;32m-> 1409\u001b[0;31m           run_metadata)\n\u001b[0m\u001b[1;32m   1410\u001b[0m     \u001b[0;32melse\u001b[0m\u001b[0;34m:\u001b[0m\u001b[0;34m\u001b[0m\u001b[0m\n",
      "\u001b[0;31mNotFoundError\u001b[0m: Key beta1_power not found in checkpoint\n\t [[Node: save_5/RestoreV2 = RestoreV2[dtypes=[DT_FLOAT, DT_FLOAT, DT_FLOAT, DT_FLOAT, DT_FLOAT, ..., DT_FLOAT, DT_FLOAT, DT_FLOAT, DT_FLOAT, DT_FLOAT], _device=\"/job:localhost/replica:0/task:0/device:CPU:0\"](_arg_save_5/Const_0_0, save_5/RestoreV2/tensor_names, save_5/RestoreV2/shape_and_slices)]]\n\t [[Node: save_5/RestoreV2/_171 = _Recv[client_terminated=false, recv_device=\"/job:localhost/replica:0/task:0/device:GPU:0\", send_device=\"/job:localhost/replica:0/task:0/device:CPU:0\", send_device_incarnation=1, tensor_name=\"edge_176_save_5/RestoreV2\", tensor_type=DT_FLOAT, _device=\"/job:localhost/replica:0/task:0/device:GPU:0\"]()]]",
      "\nDuring handling of the above exception, another exception occurred:\n",
      "\u001b[0;31mNotFoundError\u001b[0m                             Traceback (most recent call last)",
      "\u001b[0;32m<ipython-input-12-7c7944a5b341>\u001b[0m in \u001b[0;36m<module>\u001b[0;34m()\u001b[0m\n\u001b[1;32m      1\u001b[0m \u001b[0;32mwith\u001b[0m \u001b[0mtf\u001b[0m\u001b[0;34m.\u001b[0m\u001b[0mSession\u001b[0m\u001b[0;34m(\u001b[0m\u001b[0mconfig\u001b[0m\u001b[0;34m=\u001b[0m\u001b[0mconfig\u001b[0m\u001b[0;34m)\u001b[0m \u001b[0;32mas\u001b[0m \u001b[0msess\u001b[0m\u001b[0;34m:\u001b[0m\u001b[0;34m\u001b[0m\u001b[0m\n\u001b[1;32m      2\u001b[0m     \u001b[0mdcgan\u001b[0m \u001b[0;34m=\u001b[0m \u001b[0mDCGAN\u001b[0m\u001b[0;34m(\u001b[0m\u001b[0msess\u001b[0m\u001b[0;34m,\u001b[0m \u001b[0mbatch_size\u001b[0m\u001b[0;34m=\u001b[0m\u001b[0mFLAGS\u001b[0m\u001b[0;34m.\u001b[0m\u001b[0mbatch_size\u001b[0m\u001b[0;34m,\u001b[0m \u001b[0mcheckpoint_dir\u001b[0m\u001b[0;34m=\u001b[0m\u001b[0mFLAGS\u001b[0m\u001b[0;34m.\u001b[0m\u001b[0mcheckpoint_dir\u001b[0m\u001b[0;34m)\u001b[0m\u001b[0;34m\u001b[0m\u001b[0m\n\u001b[0;32m----> 3\u001b[0;31m     \u001b[0mdcgan\u001b[0m\u001b[0;34m.\u001b[0m\u001b[0minpainting\u001b[0m\u001b[0;34m(\u001b[0m\u001b[0mimages\u001b[0m\u001b[0;34m[\u001b[0m\u001b[0;36m0\u001b[0m\u001b[0;34m]\u001b[0m\u001b[0;34m,\u001b[0m \u001b[0;36m5\u001b[0m\u001b[0;34m,\u001b[0m \u001b[0mmask_choice\u001b[0m \u001b[0;34m=\u001b[0m \u001b[0;34m'block_mask'\u001b[0m\u001b[0;34m)\u001b[0m\u001b[0;34m\u001b[0m\u001b[0m\n\u001b[0m",
      "\u001b[0;32m~/DCGAN/model.py\u001b[0m in \u001b[0;36minpainting\u001b[0;34m(self, test_image, iterations, mask_choice, lamda)\u001b[0m\n\u001b[1;32m    285\u001b[0m         \u001b[0;31m#apply mask to image and keep mask for later use\u001b[0m\u001b[0;34m\u001b[0m\u001b[0;34m\u001b[0m\u001b[0m\n\u001b[1;32m    286\u001b[0m         \u001b[0;31m#self.image = test_image\u001b[0m\u001b[0;34m\u001b[0m\u001b[0;34m\u001b[0m\u001b[0m\n\u001b[0;32m--> 287\u001b[0;31m         \u001b[0mprint\u001b[0m\u001b[0;34m(\u001b[0m\u001b[0mself\u001b[0m\u001b[0;34m.\u001b[0m\u001b[0mload\u001b[0m\u001b[0;34m(\u001b[0m\u001b[0mself\u001b[0m\u001b[0;34m.\u001b[0m\u001b[0mcheckpoint_dir\u001b[0m\u001b[0;34m)\u001b[0m\u001b[0;34m)\u001b[0m\u001b[0;34m\u001b[0m\u001b[0m\n\u001b[0m\u001b[1;32m    288\u001b[0m \u001b[0;34m\u001b[0m\u001b[0m\n\u001b[1;32m    289\u001b[0m         \u001b[0;31m# MAKE SURE SELF.IMAGES HAS THE CORRECT SHAPE\u001b[0m\u001b[0;34m\u001b[0m\u001b[0;34m\u001b[0m\u001b[0m\n",
      "\u001b[0;32m~/DCGAN/model.py\u001b[0m in \u001b[0;36mload\u001b[0;34m(self, checkpoint_dir)\u001b[0m\n\u001b[1;32m    353\u001b[0m         \u001b[0mckpt\u001b[0m \u001b[0;34m=\u001b[0m \u001b[0mtf\u001b[0m\u001b[0;34m.\u001b[0m\u001b[0mtrain\u001b[0m\u001b[0;34m.\u001b[0m\u001b[0mget_checkpoint_state\u001b[0m\u001b[0;34m(\u001b[0m\u001b[0mcheckpoint_dir\u001b[0m\u001b[0;34m)\u001b[0m\u001b[0;34m\u001b[0m\u001b[0m\n\u001b[1;32m    354\u001b[0m         \u001b[0;32mif\u001b[0m \u001b[0mckpt\u001b[0m \u001b[0;32mand\u001b[0m \u001b[0mckpt\u001b[0m\u001b[0;34m.\u001b[0m\u001b[0mmodel_checkpoint_path\u001b[0m\u001b[0;34m:\u001b[0m\u001b[0;34m\u001b[0m\u001b[0m\n\u001b[0;32m--> 355\u001b[0;31m             \u001b[0mself\u001b[0m\u001b[0;34m.\u001b[0m\u001b[0msaver\u001b[0m\u001b[0;34m.\u001b[0m\u001b[0mrestore\u001b[0m\u001b[0;34m(\u001b[0m\u001b[0mself\u001b[0m\u001b[0;34m.\u001b[0m\u001b[0msess\u001b[0m\u001b[0;34m,\u001b[0m \u001b[0mckpt\u001b[0m\u001b[0;34m.\u001b[0m\u001b[0mmodel_checkpoint_path\u001b[0m\u001b[0;34m)\u001b[0m\u001b[0;34m\u001b[0m\u001b[0m\n\u001b[0m\u001b[1;32m    356\u001b[0m             \u001b[0;32mreturn\u001b[0m \u001b[0;32mTrue\u001b[0m\u001b[0;34m\u001b[0m\u001b[0m\n\u001b[1;32m    357\u001b[0m         \u001b[0;32melse\u001b[0m\u001b[0;34m:\u001b[0m\u001b[0;34m\u001b[0m\u001b[0m\n",
      "\u001b[0;32m~/miniconda3/envs/dlenv/lib/python3.6/site-packages/tensorflow/python/training/saver.py\u001b[0m in \u001b[0;36mrestore\u001b[0;34m(self, sess, save_path)\u001b[0m\n\u001b[1;32m   1800\u001b[0m     \u001b[0;32melse\u001b[0m\u001b[0;34m:\u001b[0m\u001b[0;34m\u001b[0m\u001b[0m\n\u001b[1;32m   1801\u001b[0m       sess.run(self.saver_def.restore_op_name,\n\u001b[0;32m-> 1802\u001b[0;31m                {self.saver_def.filename_tensor_name: save_path})\n\u001b[0m\u001b[1;32m   1803\u001b[0m \u001b[0;34m\u001b[0m\u001b[0m\n\u001b[1;32m   1804\u001b[0m   \u001b[0;34m@\u001b[0m\u001b[0mstaticmethod\u001b[0m\u001b[0;34m\u001b[0m\u001b[0m\n",
      "\u001b[0;32m~/miniconda3/envs/dlenv/lib/python3.6/site-packages/tensorflow/python/client/session.py\u001b[0m in \u001b[0;36mrun\u001b[0;34m(self, fetches, feed_dict, options, run_metadata)\u001b[0m\n\u001b[1;32m    898\u001b[0m     \u001b[0;32mtry\u001b[0m\u001b[0;34m:\u001b[0m\u001b[0;34m\u001b[0m\u001b[0m\n\u001b[1;32m    899\u001b[0m       result = self._run(None, fetches, feed_dict, options_ptr,\n\u001b[0;32m--> 900\u001b[0;31m                          run_metadata_ptr)\n\u001b[0m\u001b[1;32m    901\u001b[0m       \u001b[0;32mif\u001b[0m \u001b[0mrun_metadata\u001b[0m\u001b[0;34m:\u001b[0m\u001b[0;34m\u001b[0m\u001b[0m\n\u001b[1;32m    902\u001b[0m         \u001b[0mproto_data\u001b[0m \u001b[0;34m=\u001b[0m \u001b[0mtf_session\u001b[0m\u001b[0;34m.\u001b[0m\u001b[0mTF_GetBuffer\u001b[0m\u001b[0;34m(\u001b[0m\u001b[0mrun_metadata_ptr\u001b[0m\u001b[0;34m)\u001b[0m\u001b[0;34m\u001b[0m\u001b[0m\n",
      "\u001b[0;32m~/miniconda3/envs/dlenv/lib/python3.6/site-packages/tensorflow/python/client/session.py\u001b[0m in \u001b[0;36m_run\u001b[0;34m(self, handle, fetches, feed_dict, options, run_metadata)\u001b[0m\n\u001b[1;32m   1133\u001b[0m     \u001b[0;32mif\u001b[0m \u001b[0mfinal_fetches\u001b[0m \u001b[0;32mor\u001b[0m \u001b[0mfinal_targets\u001b[0m \u001b[0;32mor\u001b[0m \u001b[0;34m(\u001b[0m\u001b[0mhandle\u001b[0m \u001b[0;32mand\u001b[0m \u001b[0mfeed_dict_tensor\u001b[0m\u001b[0;34m)\u001b[0m\u001b[0;34m:\u001b[0m\u001b[0;34m\u001b[0m\u001b[0m\n\u001b[1;32m   1134\u001b[0m       results = self._do_run(handle, final_targets, final_fetches,\n\u001b[0;32m-> 1135\u001b[0;31m                              feed_dict_tensor, options, run_metadata)\n\u001b[0m\u001b[1;32m   1136\u001b[0m     \u001b[0;32melse\u001b[0m\u001b[0;34m:\u001b[0m\u001b[0;34m\u001b[0m\u001b[0m\n\u001b[1;32m   1137\u001b[0m       \u001b[0mresults\u001b[0m \u001b[0;34m=\u001b[0m \u001b[0;34m[\u001b[0m\u001b[0;34m]\u001b[0m\u001b[0;34m\u001b[0m\u001b[0m\n",
      "\u001b[0;32m~/miniconda3/envs/dlenv/lib/python3.6/site-packages/tensorflow/python/client/session.py\u001b[0m in \u001b[0;36m_do_run\u001b[0;34m(self, handle, target_list, fetch_list, feed_dict, options, run_metadata)\u001b[0m\n\u001b[1;32m   1314\u001b[0m     \u001b[0;32mif\u001b[0m \u001b[0mhandle\u001b[0m \u001b[0;32mis\u001b[0m \u001b[0;32mNone\u001b[0m\u001b[0;34m:\u001b[0m\u001b[0;34m\u001b[0m\u001b[0m\n\u001b[1;32m   1315\u001b[0m       return self._do_call(_run_fn, feeds, fetches, targets, options,\n\u001b[0;32m-> 1316\u001b[0;31m                            run_metadata)\n\u001b[0m\u001b[1;32m   1317\u001b[0m     \u001b[0;32melse\u001b[0m\u001b[0;34m:\u001b[0m\u001b[0;34m\u001b[0m\u001b[0m\n\u001b[1;32m   1318\u001b[0m       \u001b[0;32mreturn\u001b[0m \u001b[0mself\u001b[0m\u001b[0;34m.\u001b[0m\u001b[0m_do_call\u001b[0m\u001b[0;34m(\u001b[0m\u001b[0m_prun_fn\u001b[0m\u001b[0;34m,\u001b[0m \u001b[0mhandle\u001b[0m\u001b[0;34m,\u001b[0m \u001b[0mfeeds\u001b[0m\u001b[0;34m,\u001b[0m \u001b[0mfetches\u001b[0m\u001b[0;34m)\u001b[0m\u001b[0;34m\u001b[0m\u001b[0m\n",
      "\u001b[0;32m~/miniconda3/envs/dlenv/lib/python3.6/site-packages/tensorflow/python/client/session.py\u001b[0m in \u001b[0;36m_do_call\u001b[0;34m(self, fn, *args)\u001b[0m\n\u001b[1;32m   1333\u001b[0m         \u001b[0;32mexcept\u001b[0m \u001b[0mKeyError\u001b[0m\u001b[0;34m:\u001b[0m\u001b[0;34m\u001b[0m\u001b[0m\n\u001b[1;32m   1334\u001b[0m           \u001b[0;32mpass\u001b[0m\u001b[0;34m\u001b[0m\u001b[0m\n\u001b[0;32m-> 1335\u001b[0;31m       \u001b[0;32mraise\u001b[0m \u001b[0mtype\u001b[0m\u001b[0;34m(\u001b[0m\u001b[0me\u001b[0m\u001b[0;34m)\u001b[0m\u001b[0;34m(\u001b[0m\u001b[0mnode_def\u001b[0m\u001b[0;34m,\u001b[0m \u001b[0mop\u001b[0m\u001b[0;34m,\u001b[0m \u001b[0mmessage\u001b[0m\u001b[0;34m)\u001b[0m\u001b[0;34m\u001b[0m\u001b[0m\n\u001b[0m\u001b[1;32m   1336\u001b[0m \u001b[0;34m\u001b[0m\u001b[0m\n\u001b[1;32m   1337\u001b[0m   \u001b[0;32mdef\u001b[0m \u001b[0m_extend_graph\u001b[0m\u001b[0;34m(\u001b[0m\u001b[0mself\u001b[0m\u001b[0;34m)\u001b[0m\u001b[0;34m:\u001b[0m\u001b[0;34m\u001b[0m\u001b[0m\n",
      "\u001b[0;31mNotFoundError\u001b[0m: Key beta1_power not found in checkpoint\n\t [[Node: save_5/RestoreV2 = RestoreV2[dtypes=[DT_FLOAT, DT_FLOAT, DT_FLOAT, DT_FLOAT, DT_FLOAT, ..., DT_FLOAT, DT_FLOAT, DT_FLOAT, DT_FLOAT, DT_FLOAT], _device=\"/job:localhost/replica:0/task:0/device:CPU:0\"](_arg_save_5/Const_0_0, save_5/RestoreV2/tensor_names, save_5/RestoreV2/shape_and_slices)]]\n\t [[Node: save_5/RestoreV2/_171 = _Recv[client_terminated=false, recv_device=\"/job:localhost/replica:0/task:0/device:GPU:0\", send_device=\"/job:localhost/replica:0/task:0/device:CPU:0\", send_device_incarnation=1, tensor_name=\"edge_176_save_5/RestoreV2\", tensor_type=DT_FLOAT, _device=\"/job:localhost/replica:0/task:0/device:GPU:0\"]()]]\n\nCaused by op 'save_5/RestoreV2', defined at:\n  File \"/home/ecbm4040/miniconda3/envs/dlenv/lib/python3.6/runpy.py\", line 193, in _run_module_as_main\n    \"__main__\", mod_spec)\n  File \"/home/ecbm4040/miniconda3/envs/dlenv/lib/python3.6/runpy.py\", line 85, in _run_code\n    exec(code, run_globals)\n  File \"/home/ecbm4040/miniconda3/envs/dlenv/lib/python3.6/site-packages/ipykernel_launcher.py\", line 16, in <module>\n    app.launch_new_instance()\n  File \"/home/ecbm4040/miniconda3/envs/dlenv/lib/python3.6/site-packages/traitlets/config/application.py\", line 658, in launch_instance\n    app.start()\n  File \"/home/ecbm4040/miniconda3/envs/dlenv/lib/python3.6/site-packages/ipykernel/kernelapp.py\", line 486, in start\n    self.io_loop.start()\n  File \"/home/ecbm4040/miniconda3/envs/dlenv/lib/python3.6/site-packages/tornado/platform/asyncio.py\", line 127, in start\n    self.asyncio_loop.run_forever()\n  File \"/home/ecbm4040/miniconda3/envs/dlenv/lib/python3.6/asyncio/base_events.py\", line 422, in run_forever\n    self._run_once()\n  File \"/home/ecbm4040/miniconda3/envs/dlenv/lib/python3.6/asyncio/base_events.py\", line 1432, in _run_once\n    handle._run()\n  File \"/home/ecbm4040/miniconda3/envs/dlenv/lib/python3.6/asyncio/events.py\", line 145, in _run\n    self._callback(*self._args)\n  File \"/home/ecbm4040/miniconda3/envs/dlenv/lib/python3.6/site-packages/tornado/platform/asyncio.py\", line 117, in _handle_events\n    handler_func(fileobj, events)\n  File \"/home/ecbm4040/miniconda3/envs/dlenv/lib/python3.6/site-packages/tornado/stack_context.py\", line 276, in null_wrapper\n    return fn(*args, **kwargs)\n  File \"/home/ecbm4040/miniconda3/envs/dlenv/lib/python3.6/site-packages/zmq/eventloop/zmqstream.py\", line 450, in _handle_events\n    self._handle_recv()\n  File \"/home/ecbm4040/miniconda3/envs/dlenv/lib/python3.6/site-packages/zmq/eventloop/zmqstream.py\", line 480, in _handle_recv\n    self._run_callback(callback, msg)\n  File \"/home/ecbm4040/miniconda3/envs/dlenv/lib/python3.6/site-packages/zmq/eventloop/zmqstream.py\", line 432, in _run_callback\n    callback(*args, **kwargs)\n  File \"/home/ecbm4040/miniconda3/envs/dlenv/lib/python3.6/site-packages/tornado/stack_context.py\", line 276, in null_wrapper\n    return fn(*args, **kwargs)\n  File \"/home/ecbm4040/miniconda3/envs/dlenv/lib/python3.6/site-packages/ipykernel/kernelbase.py\", line 283, in dispatcher\n    return self.dispatch_shell(stream, msg)\n  File \"/home/ecbm4040/miniconda3/envs/dlenv/lib/python3.6/site-packages/ipykernel/kernelbase.py\", line 233, in dispatch_shell\n    handler(stream, idents, msg)\n  File \"/home/ecbm4040/miniconda3/envs/dlenv/lib/python3.6/site-packages/ipykernel/kernelbase.py\", line 399, in execute_request\n    user_expressions, allow_stdin)\n  File \"/home/ecbm4040/miniconda3/envs/dlenv/lib/python3.6/site-packages/ipykernel/ipkernel.py\", line 208, in do_execute\n    res = shell.run_cell(code, store_history=store_history, silent=silent)\n  File \"/home/ecbm4040/miniconda3/envs/dlenv/lib/python3.6/site-packages/ipykernel/zmqshell.py\", line 537, in run_cell\n    return super(ZMQInteractiveShell, self).run_cell(*args, **kwargs)\n  File \"/home/ecbm4040/miniconda3/envs/dlenv/lib/python3.6/site-packages/IPython/core/interactiveshell.py\", line 2662, in run_cell\n    raw_cell, store_history, silent, shell_futures)\n  File \"/home/ecbm4040/miniconda3/envs/dlenv/lib/python3.6/site-packages/IPython/core/interactiveshell.py\", line 2785, in _run_cell\n    interactivity=interactivity, compiler=compiler, result=result)\n  File \"/home/ecbm4040/miniconda3/envs/dlenv/lib/python3.6/site-packages/IPython/core/interactiveshell.py\", line 2903, in run_ast_nodes\n    if self.run_code(code, result):\n  File \"/home/ecbm4040/miniconda3/envs/dlenv/lib/python3.6/site-packages/IPython/core/interactiveshell.py\", line 2963, in run_code\n    exec(code_obj, self.user_global_ns, self.user_ns)\n  File \"<ipython-input-12-7c7944a5b341>\", line 2, in <module>\n    dcgan = DCGAN(sess, batch_size=FLAGS.batch_size, checkpoint_dir=FLAGS.checkpoint_dir)\n  File \"/home/ecbm4040/DCGAN/model.py\", line 68, in __init__\n    self.build_model()\n  File \"/home/ecbm4040/DCGAN/model.py\", line 107, in build_model\n    self.saver = tf.train.Saver(max_to_keep=1)\n  File \"/home/ecbm4040/miniconda3/envs/dlenv/lib/python3.6/site-packages/tensorflow/python/training/saver.py\", line 1338, in __init__\n    self.build()\n  File \"/home/ecbm4040/miniconda3/envs/dlenv/lib/python3.6/site-packages/tensorflow/python/training/saver.py\", line 1347, in build\n    self._build(self._filename, build_save=True, build_restore=True)\n  File \"/home/ecbm4040/miniconda3/envs/dlenv/lib/python3.6/site-packages/tensorflow/python/training/saver.py\", line 1384, in _build\n    build_save=build_save, build_restore=build_restore)\n  File \"/home/ecbm4040/miniconda3/envs/dlenv/lib/python3.6/site-packages/tensorflow/python/training/saver.py\", line 835, in _build_internal\n    restore_sequentially, reshape)\n  File \"/home/ecbm4040/miniconda3/envs/dlenv/lib/python3.6/site-packages/tensorflow/python/training/saver.py\", line 472, in _AddRestoreOps\n    restore_sequentially)\n  File \"/home/ecbm4040/miniconda3/envs/dlenv/lib/python3.6/site-packages/tensorflow/python/training/saver.py\", line 886, in bulk_restore\n    return io_ops.restore_v2(filename_tensor, names, slices, dtypes)\n  File \"/home/ecbm4040/miniconda3/envs/dlenv/lib/python3.6/site-packages/tensorflow/python/ops/gen_io_ops.py\", line 1463, in restore_v2\n    shape_and_slices=shape_and_slices, dtypes=dtypes, name=name)\n  File \"/home/ecbm4040/miniconda3/envs/dlenv/lib/python3.6/site-packages/tensorflow/python/framework/op_def_library.py\", line 787, in _apply_op_helper\n    op_def=op_def)\n  File \"/home/ecbm4040/miniconda3/envs/dlenv/lib/python3.6/site-packages/tensorflow/python/framework/ops.py\", line 3392, in create_op\n    op_def=op_def)\n  File \"/home/ecbm4040/miniconda3/envs/dlenv/lib/python3.6/site-packages/tensorflow/python/framework/ops.py\", line 1718, in __init__\n    self._traceback = self._graph._extract_stack()  # pylint: disable=protected-access\n\nNotFoundError (see above for traceback): Key beta1_power not found in checkpoint\n\t [[Node: save_5/RestoreV2 = RestoreV2[dtypes=[DT_FLOAT, DT_FLOAT, DT_FLOAT, DT_FLOAT, DT_FLOAT, ..., DT_FLOAT, DT_FLOAT, DT_FLOAT, DT_FLOAT, DT_FLOAT], _device=\"/job:localhost/replica:0/task:0/device:CPU:0\"](_arg_save_5/Const_0_0, save_5/RestoreV2/tensor_names, save_5/RestoreV2/shape_and_slices)]]\n\t [[Node: save_5/RestoreV2/_171 = _Recv[client_terminated=false, recv_device=\"/job:localhost/replica:0/task:0/device:GPU:0\", send_device=\"/job:localhost/replica:0/task:0/device:CPU:0\", send_device_incarnation=1, tensor_name=\"edge_176_save_5/RestoreV2\", tensor_type=DT_FLOAT, _device=\"/job:localhost/replica:0/task:0/device:GPU:0\"]()]]\n"
     ]
    }
   ],
   "source": [
    "with tf.Session(config=config) as sess:\n",
    "    dcgan = DCGAN(sess, batch_size=FLAGS.batch_size, checkpoint_dir=FLAGS.checkpoint_dir)\n",
    "    dcgan.inpainting(images[0], 5, mask_choice = 'block_mask')"
   ]
  },
  {
   "cell_type": "code",
   "execution_count": null,
   "metadata": {},
   "outputs": [],
   "source": []
  }
 ],
 "metadata": {
  "kernelspec": {
   "display_name": "Python 3",
   "language": "python",
   "name": "python3"
  },
  "language_info": {
   "codemirror_mode": {
    "name": "ipython",
    "version": 3
   },
   "file_extension": ".py",
   "mimetype": "text/x-python",
   "name": "python",
   "nbconvert_exporter": "python",
   "pygments_lexer": "ipython3",
   "version": "3.6.5"
  }
 },
 "nbformat": 4,
 "nbformat_minor": 2
}
